{
 "cells": [
  {
   "cell_type": "code",
   "execution_count": 1,
   "metadata": {},
   "outputs": [],
   "source": [
    "from torchvision import transforms\n",
    "from PIL import Image\n",
    "import cv2"
   ]
  },
  {
   "cell_type": "code",
   "execution_count": 2,
   "metadata": {},
   "outputs": [],
   "source": [
    "def crop_image(image):\n",
    "    # Ritaglia la parte superiore (macchina) e inferiore (pannello)\n",
    "\n",
    "    top_crop = transforms.functional.crop(image, 0, 0, 84, 96)  # Prima metà\n",
    "    bottom_crop = transforms.functional.crop(image, 84, 0, 12, 96)  # Seconda metà\n",
    "    \n",
    "    return top_crop, bottom_crop"
   ]
  },
  {
   "cell_type": "code",
   "execution_count": 3,
   "metadata": {},
   "outputs": [],
   "source": [
    "# Testa la funzione\n",
    "image_path = \"train/0/0000.png\"\n",
    "image = Image.open(image_path).convert(\"RGB\")\n",
    "top, bottom = crop_image(image)"
   ]
  },
  {
   "cell_type": "code",
   "execution_count": 4,
   "metadata": {},
   "outputs": [
    {
     "data": {
      "image/png": "[encoded data removed]",
      "text/plain": [
       "<Figure size 1200x600 with 2 Axes>"
      ]
     },
     "metadata": {},
     "output_type": "display_data"
    }
   ],
   "source": [
    "# Visualizza i ritagli\n",
    "import matplotlib.pyplot as plt\n",
    "\n",
    "plt.figure(figsize=(12, 6))\n",
    "plt.subplot(1, 2, 1)\n",
    "plt.title(\"Parte superiore\")\n",
    "plt.imshow(top)\n",
    "plt.subplot(1, 2, 2)\n",
    "plt.title(\"Parte inferiore\")\n",
    "plt.imshow(bottom)\n",
    "plt.show()"
   ]
  },
  {
   "cell_type": "markdown",
   "metadata": {},
   "source": [
    "# CNN Model"
   ]
  },
  {
   "cell_type": "code",
   "execution_count": 5,
   "metadata": {},
   "outputs": [
    {
     "name": "stdout",
     "output_type": "stream",
     "text": [
      "Using device: cpu\n"
     ]
    }
   ],
   "source": [
    "import os\n",
    "import torch\n",
    "import torch.nn as nn\n",
    "import torch.optim as optim\n",
    "from torchvision import datasets, transforms\n",
    "from torch.utils.data import DataLoader, WeightedRandomSampler, random_split\n",
    "from PIL import Image\n",
    "import matplotlib.pyplot as plt\n",
    "import numpy as np\n",
    "\n",
    "# Imposta il dispositivo\n",
    "device = torch.device(\"cuda\" if torch.cuda.is_available() else \"cpu\")\n",
    "print(f\"Using device: {device}\")"
   ]
  },
  {
   "cell_type": "code",
   "execution_count": 6,
   "metadata": {},
   "outputs": [
    {
     "name": "stdout",
     "output_type": "stream",
     "text": [
      "DualInputModel(\n",
      "  (top_net): Sequential(\n",
      "    (0): Conv2d(3, 8, kernel_size=(3, 3), stride=(1, 1), padding=(1, 1))\n",
      "    (1): ReLU()\n",
      "    (2): MaxPool2d(kernel_size=2, stride=2, padding=0, dilation=1, ceil_mode=False)\n",
      "    (3): Conv2d(8, 16, kernel_size=(3, 3), stride=(1, 1), padding=(1, 1))\n",
      "    (4): ReLU()\n",
      "    (5): MaxPool2d(kernel_size=2, stride=2, padding=0, dilation=1, ceil_mode=False)\n",
      "    (6): Conv2d(16, 32, kernel_size=(3, 3), stride=(1, 1), padding=(1, 1))\n",
      "    (7): ReLU()\n",
      "    (8): Dropout(p=0.25, inplace=False)\n",
      "    (9): AdaptiveAvgPool2d(output_size=(6, 6))\n",
      "  )\n",
      "  (bottom_net): Sequential(\n",
      "    (0): Conv2d(3, 8, kernel_size=(3, 3), stride=(1, 1), padding=(1, 1))\n",
      "    (1): ReLU()\n",
      "    (2): MaxPool2d(kernel_size=2, stride=2, padding=0, dilation=1, ceil_mode=False)\n",
      "    (3): Conv2d(8, 16, kernel_size=(3, 3), stride=(1, 1), padding=(1, 1))\n",
      "    (4): ReLU()\n",
      "    (5): MaxPool2d(kernel_size=2, stride=2, padding=0, dilation=1, ceil_mode=False)\n",
      "    (6): Conv2d(16, 32, kernel_size=(3, 3), stride=(1, 1), padding=(1, 1))\n",
      "    (7): ReLU()\n",
      "    (8): Dropout(p=0.25, inplace=False)\n",
      "    (9): AdaptiveAvgPool2d(output_size=(6, 6))\n",
      "  )\n",
      "  (fc): Sequential(\n",
      "    (0): Flatten(start_dim=1, end_dim=-1)\n",
      "    (1): Linear(in_features=2304, out_features=128, bias=True)\n",
      "    (2): ReLU()\n",
      "    (3): Linear(in_features=128, out_features=5, bias=True)\n",
      "  )\n",
      ")\n"
     ]
    }
   ],
   "source": [
    "class DualInputModel(nn.Module):\n",
    "    def __init__(self, dropout_rate=0.25):\n",
    "        super(DualInputModel, self).__init__()\n",
    "        \n",
    "        # Rete per la parte superiore (orientamento auto)\n",
    "        self.top_net = nn.Sequential(\n",
    "            nn.Conv2d(3, 8, kernel_size=3, padding=1),\n",
    "            nn.ReLU(),\n",
    "            nn.MaxPool2d(2, 2),  # Output: 24x24\n",
    "            \n",
    "            nn.Conv2d(8, 16, kernel_size=3, padding=1),\n",
    "            nn.ReLU(),\n",
    "            nn.MaxPool2d(2,2), # Output: 12x12\n",
    "            \n",
    "            nn.Conv2d(16, 32, kernel_size=3, padding=1),\n",
    "            nn.ReLU(),\n",
    "\n",
    "            nn.Dropout(dropout_rate),\n",
    "            nn.AdaptiveAvgPool2d((6, 6))  # Adatta a output compatto\n",
    "        )\n",
    "        \n",
    "        # Rete per la parte inferiore (pannello)\n",
    "        self.bottom_net = nn.Sequential(\n",
    "            nn.Conv2d(3, 8, kernel_size=3, padding=1),\n",
    "            nn.ReLU(),\n",
    "            nn.MaxPool2d(2, 2),  # Output: 24x24\n",
    "            \n",
    "            nn.Conv2d(8, 16, kernel_size=3, padding=1),\n",
    "            nn.ReLU(),\n",
    "            nn.MaxPool2d(2, 2),  # Output: 12x12\n",
    "            \n",
    "            nn.Conv2d(16, 32, kernel_size=3, padding=1),\n",
    "            nn.ReLU(),\n",
    "            nn.Dropout(dropout_rate),\n",
    "            \n",
    "            nn.AdaptiveAvgPool2d((6, 6))\n",
    "        )\n",
    "        \n",
    "        # Combinazione dei due output\n",
    "        self.fc = nn.Sequential(\n",
    "            nn.Flatten(),\n",
    "            nn.Linear(32 * 6 * 6 * 2, 128),  # 2 parti\n",
    "            nn.ReLU(),\n",
    "            nn.Linear(128, 5)  # 5 azioni\n",
    "        )\n",
    "    \n",
    "    def forward(self, top_input, bottom_input):\n",
    "        top_out = self.top_net(top_input)\n",
    "        bottom_out = self.bottom_net(bottom_input)\n",
    "        combined = torch.cat((top_out.view(top_out.size(0), -1),\n",
    "                              bottom_out.view(bottom_out.size(0), -1)), dim=1)\n",
    "        return self.fc(combined)\n",
    "\n",
    "# Inizializza il modello\n",
    "model = DualInputModel().to(device)\n",
    "print(model)"
   ]
  },
  {
   "cell_type": "markdown",
   "metadata": {},
   "source": [
    "Data Preparation"
   ]
  },
  {
   "cell_type": "code",
   "execution_count": 7,
   "metadata": {},
   "outputs": [],
   "source": [
    "# Trasformazioni per pre-elaborare l'immagine\n",
    "transform = transforms.Compose([\n",
    "    transforms.Resize((96, 96)),  # Resize delle immagini\n",
    "    transforms.ToTensor()\n",
    "])\n",
    "\n",
    "# Classe personalizzata per dataset dual-input\n",
    "class DualInputDataset(torch.utils.data.Dataset):\n",
    "    def __init__(self, root_dir, transform):\n",
    "        self.dataset = datasets.ImageFolder(root=root_dir, transform=transform)\n",
    "    \n",
    "    def __getitem__(self, idx):\n",
    "        img, label = self.dataset[idx]\n",
    "        \n",
    "        # Divide l'immagine in due parti\n",
    "        top_img, bottom_img = crop_image(img)\n",
    "        \n",
    "        return top_img, bottom_img, label\n",
    "    \n",
    "    def __len__(self):\n",
    "        return len(self.dataset)\n",
    "    "
   ]
  },
  {
   "cell_type": "code",
   "execution_count": 8,
   "metadata": {},
   "outputs": [],
   "source": [
    "# Loss e Ottimizzatore\n",
    "#optimizer = optim.Adam(model.parameters(), lr=0.001)\n",
    "#criterion = nn.CrossEntropyLoss()\n",
    "\n",
    "# Funzione per il training\n",
    "def train_model(model, loader, criterion, optimizer):\n",
    "    model.train()\n",
    "    running_loss = 0.0\n",
    "    correct = 0\n",
    "    total = 0\n",
    "    for top_imgs, bottom_imgs, labels in loader:\n",
    "        top_imgs, bottom_imgs, labels = top_imgs.to(device), bottom_imgs.to(device), labels.to(device)\n",
    "        \n",
    "        optimizer.zero_grad()\n",
    "        outputs = model(top_imgs, bottom_imgs)\n",
    "        loss = criterion(outputs, labels)\n",
    "        loss.backward()\n",
    "        optimizer.step()\n",
    "        \n",
    "        running_loss += loss.item()\n",
    "        _, preds = torch.max(outputs, 1)\n",
    "        correct += (preds == labels).sum().item()\n",
    "        total += labels.size(0)\n",
    "    \n",
    "    accuracy = 100 * correct / total\n",
    "    return running_loss / len(loader), accuracy\n",
    "\n",
    "# Funzione per l'evaluazione\n",
    "def evaluate_model(model, loader):\n",
    "    model.eval()\n",
    "    correct = 0\n",
    "    total = 0\n",
    "    with torch.no_grad():\n",
    "        for top_imgs, bottom_imgs, labels in loader:\n",
    "            top_imgs, bottom_imgs, labels = top_imgs.to(device), bottom_imgs.to(device), labels.to(device)\n",
    "            outputs = model(top_imgs, bottom_imgs)\n",
    "            _, preds = torch.max(outputs, 1)\n",
    "            correct += (preds == labels).sum().item()\n",
    "            total += labels.size(0)\n",
    "    \n",
    "    accuracy = 100 * correct / total\n",
    "    return accuracy"
   ]
  },
  {
   "cell_type": "markdown",
   "metadata": {},
   "source": [
    "## Train Normal Data "
   ]
  },
  {
   "cell_type": "code",
   "execution_count": 9,
   "metadata": {},
   "outputs": [],
   "source": [
    "# Percorso del dataset\n",
    "data_dir = \"./train_balanced\"  # Sostituisci con il tuo percorso\n",
    "train_dataset = DualInputDataset(root_dir=data_dir, transform=transform)\n",
    "\n",
    "# Split in train/test\n",
    "train_size = int(0.8 * len(train_dataset))\n",
    "test_size = len(train_dataset) - train_size\n",
    "train_subset, test_subset = random_split(train_dataset, [train_size, test_size])\n",
    "\n",
    "train_loader = DataLoader(train_subset, batch_size=32, shuffle=True)\n",
    "test_loader = DataLoader(test_subset, batch_size=32, shuffle=False)"
   ]
  },
  {
   "cell_type": "code",
   "execution_count": 10,
   "metadata": {},
   "outputs": [
    {
     "data": {
      "text/plain": [
       "'\\nnum_epochs = 6\\n\\nfor epoch in range(num_epochs):\\n    train_loss, train_acc = train_model(model, train_loader, criterion, optimizer)\\n    test_acc = evaluate_model(model, test_loader)\\n    \\n    print(f\"Epoch {epoch+1}/{num_epochs}\")\\n    print(f\"Train Loss: {train_loss:.4f}, Train Accuracy: {train_acc:.2f}%\")\\n    print(f\"Test Accuracy: {test_acc:.2f}%\\n\")\\n\\nfinal_test_dataset = DualInputDataset(root_dir=\\'./test\\', transform=transform)\\nfinal_test_loader = DataLoader(final_test_dataset, batch_size=32, shuffle=True)\\n\\nevaluate_model(model, final_test_loader)\\n'"
      ]
     },
     "execution_count": 10,
     "metadata": {},
     "output_type": "execute_result"
    }
   ],
   "source": [
    "'''\n",
    "num_epochs = 6\n",
    "\n",
    "for epoch in range(num_epochs):\n",
    "    train_loss, train_acc = train_model(model, train_loader, criterion, optimizer)\n",
    "    test_acc = evaluate_model(model, test_loader)\n",
    "    \n",
    "    print(f\"Epoch {epoch+1}/{num_epochs}\")\n",
    "    print(f\"Train Loss: {train_loss:.4f}, Train Accuracy: {train_acc:.2f}%\")\n",
    "    print(f\"Test Accuracy: {test_acc:.2f}%\\n\")\n",
    "\n",
    "final_test_dataset = DualInputDataset(root_dir='./test', transform=transform)\n",
    "final_test_loader = DataLoader(final_test_dataset, batch_size=32, shuffle=True)\n",
    "\n",
    "evaluate_model(model, final_test_loader)\n",
    "'''"
   ]
  },
  {
   "cell_type": "markdown",
   "metadata": {},
   "source": [
    "### Hyperparameter Search"
   ]
  },
  {
   "cell_type": "code",
   "execution_count": 11,
   "metadata": {},
   "outputs": [],
   "source": [
    "from sklearn.metrics import precision_score, recall_score, f1_score, confusion_matrix, classification_report"
   ]
  },
  {
   "cell_type": "code",
   "execution_count": 12,
   "metadata": {},
   "outputs": [],
   "source": [
    "test_set = DualInputDataset(root_dir='./test', transform=transform)\n",
    "test_set_loader = DataLoader(test_set, batch_size=32, shuffle=False)"
   ]
  },
  {
   "cell_type": "code",
   "execution_count": 13,
   "metadata": {},
   "outputs": [],
   "source": [
    "# Parametri di ricerca\n",
    "epoch_list = [10, 20]\n",
    "learning_rate_list = [0.01]\n",
    "dropout_list = [0, 0.25, 0.5]\n",
    "weight_decay_list = [0.0001]"
   ]
  },
  {
   "cell_type": "code",
   "execution_count": 14,
   "metadata": {},
   "outputs": [
    {
     "name": "stdout",
     "output_type": "stream",
     "text": [
      "Training with dropout 0, lr 0.01, wd 0.0001, epochs 10...\n",
      "Epoch 1/10, Loss: 75.9883, Accuracy: 19.51%\n",
      "Epoch 2/10, Loss: 75.6797, Accuracy: 20.12%\n",
      "Epoch 3/10, Loss: 75.7159, Accuracy: 18.70%\n",
      "Epoch 4/10, Loss: 75.7210, Accuracy: 17.95%\n",
      "Epoch 5/10, Loss: 75.6769, Accuracy: 19.38%\n",
      "Epoch 6/10, Loss: 75.6928, Accuracy: 18.90%\n",
      "Epoch 7/10, Loss: 75.6999, Accuracy: 19.24%\n",
      "Epoch 8/10, Loss: 75.6972, Accuracy: 18.50%\n",
      "Epoch 9/10, Loss: 75.6810, Accuracy: 19.85%\n",
      "Epoch 10/10, Loss: 75.6890, Accuracy: 18.90%\n",
      "Training with dropout 0, lr 0.01, wd 0.0001, epochs 20...\n",
      "Epoch 1/20, Loss: 74.4515, Accuracy: 26.76%\n",
      "Epoch 2/20, Loss: 70.1141, Accuracy: 34.89%\n",
      "Epoch 3/20, Loss: 68.2230, Accuracy: 37.60%\n",
      "Epoch 4/20, Loss: 68.0364, Accuracy: 38.62%\n",
      "Epoch 5/20, Loss: 67.7541, Accuracy: 37.33%\n",
      "Epoch 6/20, Loss: 67.4802, Accuracy: 38.48%\n",
      "Epoch 7/20, Loss: 67.3327, Accuracy: 38.75%\n",
      "Epoch 8/20, Loss: 67.4929, Accuracy: 38.75%\n",
      "Epoch 9/20, Loss: 67.2712, Accuracy: 39.30%\n",
      "Epoch 10/20, Loss: 66.7197, Accuracy: 39.09%\n",
      "Epoch 11/20, Loss: 67.0317, Accuracy: 39.70%\n",
      "Epoch 12/20, Loss: 67.4434, Accuracy: 39.16%\n",
      "Epoch 13/20, Loss: 67.0909, Accuracy: 38.89%\n",
      "Epoch 14/20, Loss: 67.5940, Accuracy: 39.36%\n",
      "Epoch 15/20, Loss: 68.5121, Accuracy: 38.41%\n",
      "Epoch 16/20, Loss: 67.1826, Accuracy: 38.89%\n",
      "Epoch 17/20, Loss: 66.6377, Accuracy: 39.57%\n",
      "Epoch 18/20, Loss: 66.9911, Accuracy: 38.62%\n",
      "Epoch 19/20, Loss: 66.2828, Accuracy: 40.58%\n",
      "Epoch 20/20, Loss: 66.5885, Accuracy: 39.23%\n",
      "Training with dropout 0.25, lr 0.01, wd 0.0001, epochs 10...\n",
      "Epoch 1/10, Loss: 72.7604, Accuracy: 31.30%\n",
      "Epoch 2/10, Loss: 69.5639, Accuracy: 37.40%\n",
      "Epoch 3/10, Loss: 68.6540, Accuracy: 38.48%\n",
      "Epoch 4/10, Loss: 67.9276, Accuracy: 37.94%\n",
      "Epoch 5/10, Loss: 68.1073, Accuracy: 38.69%\n",
      "Epoch 6/10, Loss: 67.2969, Accuracy: 39.84%\n",
      "Epoch 7/10, Loss: 67.3225, Accuracy: 38.75%\n",
      "Epoch 8/10, Loss: 67.7852, Accuracy: 38.48%\n",
      "Epoch 9/10, Loss: 67.3330, Accuracy: 38.96%\n",
      "Epoch 10/10, Loss: 66.7640, Accuracy: 39.23%\n",
      "Training with dropout 0.25, lr 0.01, wd 0.0001, epochs 20...\n",
      "Epoch 1/20, Loss: 74.3171, Accuracy: 24.53%\n",
      "Epoch 2/20, Loss: 69.3632, Accuracy: 34.96%\n",
      "Epoch 3/20, Loss: 68.2901, Accuracy: 38.21%\n",
      "Epoch 4/20, Loss: 68.2038, Accuracy: 38.69%\n",
      "Epoch 5/20, Loss: 67.4155, Accuracy: 37.87%\n",
      "Epoch 6/20, Loss: 67.3037, Accuracy: 38.82%\n",
      "Epoch 7/20, Loss: 67.3535, Accuracy: 39.70%\n",
      "Epoch 8/20, Loss: 67.4186, Accuracy: 40.58%\n",
      "Epoch 9/20, Loss: 66.2564, Accuracy: 40.24%\n",
      "Epoch 10/20, Loss: 66.8118, Accuracy: 40.79%\n",
      "Epoch 11/20, Loss: 66.3172, Accuracy: 40.38%\n",
      "Epoch 12/20, Loss: 66.2543, Accuracy: 39.50%\n",
      "Epoch 13/20, Loss: 66.1831, Accuracy: 40.58%\n",
      "Epoch 14/20, Loss: 66.2495, Accuracy: 38.82%\n",
      "Epoch 15/20, Loss: 66.3041, Accuracy: 40.72%\n",
      "Epoch 16/20, Loss: 65.8969, Accuracy: 41.12%\n",
      "Epoch 17/20, Loss: 66.2735, Accuracy: 40.99%\n",
      "Epoch 18/20, Loss: 66.2902, Accuracy: 40.45%\n",
      "Epoch 19/20, Loss: 65.8983, Accuracy: 41.94%\n",
      "Epoch 20/20, Loss: 66.4106, Accuracy: 39.97%\n",
      "Training with dropout 0.5, lr 0.01, wd 0.0001, epochs 10...\n",
      "Epoch 1/10, Loss: 76.0666, Accuracy: 20.12%\n",
      "Epoch 2/10, Loss: 75.6924, Accuracy: 18.29%\n",
      "Epoch 3/10, Loss: 75.6965, Accuracy: 19.31%\n",
      "Epoch 4/10, Loss: 75.6720, Accuracy: 20.73%\n",
      "Epoch 5/10, Loss: 75.7143, Accuracy: 18.29%\n",
      "Epoch 6/10, Loss: 75.7215, Accuracy: 18.83%\n",
      "Epoch 7/10, Loss: 75.7139, Accuracy: 18.16%\n",
      "Epoch 8/10, Loss: 75.6896, Accuracy: 19.99%\n",
      "Epoch 9/10, Loss: 75.6686, Accuracy: 20.19%\n",
      "Epoch 10/10, Loss: 75.6948, Accuracy: 20.39%\n",
      "Training with dropout 0.5, lr 0.01, wd 0.0001, epochs 20...\n",
      "Epoch 1/20, Loss: 75.6927, Accuracy: 19.65%\n",
      "Epoch 2/20, Loss: 73.8532, Accuracy: 29.07%\n",
      "Epoch 3/20, Loss: 71.4709, Accuracy: 32.52%\n",
      "Epoch 4/20, Loss: 70.8486, Accuracy: 35.37%\n",
      "Epoch 5/20, Loss: 69.0928, Accuracy: 36.18%\n",
      "Epoch 6/20, Loss: 68.7150, Accuracy: 37.60%\n",
      "Epoch 7/20, Loss: 68.8423, Accuracy: 36.92%\n",
      "Epoch 8/20, Loss: 68.0130, Accuracy: 37.40%\n",
      "Epoch 9/20, Loss: 69.4920, Accuracy: 37.13%\n",
      "Epoch 10/20, Loss: 69.1453, Accuracy: 37.60%\n",
      "Epoch 11/20, Loss: 68.7431, Accuracy: 36.86%\n",
      "Epoch 12/20, Loss: 68.2094, Accuracy: 38.35%\n",
      "Epoch 13/20, Loss: 69.1769, Accuracy: 37.60%\n",
      "Epoch 14/20, Loss: 68.6299, Accuracy: 37.26%\n",
      "Epoch 15/20, Loss: 67.8177, Accuracy: 38.14%\n",
      "Epoch 16/20, Loss: 67.3437, Accuracy: 38.69%\n",
      "Epoch 17/20, Loss: 67.4724, Accuracy: 39.09%\n",
      "Epoch 18/20, Loss: 67.9836, Accuracy: 38.82%\n",
      "Epoch 19/20, Loss: 67.0759, Accuracy: 39.63%\n",
      "Epoch 20/20, Loss: 67.4330, Accuracy: 39.23%\n",
      "Results:\n",
      "{'dropout_rate': 0, 'learning_rate': 0.01, 'weight_decay': 0.0001, 'epochs': 10, 'final_accuracy': 18.902439024390244, 'final_loss': 75.68898272514343, 'precision': 0.03395979759255587, 'recall': 0.1842818428184282, 'f1_score': 0.05735087099154744}\n",
      "{'dropout_rate': 0, 'learning_rate': 0.01, 'weight_decay': 0.0001, 'epochs': 20, 'final_accuracy': 39.22764227642276, 'final_loss': 66.58845686912537, 'precision': 0.43532063147468164, 'recall': 0.4146341463414634, 'f1_score': 0.3733144840547494}\n",
      "{'dropout_rate': 0.25, 'learning_rate': 0.01, 'weight_decay': 0.0001, 'epochs': 10, 'final_accuracy': 39.22764227642276, 'final_loss': 66.76402986049652, 'precision': 0.4105755538307233, 'recall': 0.4281842818428184, 'f1_score': 0.370353587811104}\n",
      "{'dropout_rate': 0.25, 'learning_rate': 0.01, 'weight_decay': 0.0001, 'epochs': 20, 'final_accuracy': 39.97289972899729, 'final_loss': 66.41055202484131, 'precision': 0.4945424273625769, 'recall': 0.44715447154471544, 'f1_score': 0.4101050415430477}\n",
      "{'dropout_rate': 0.5, 'learning_rate': 0.01, 'weight_decay': 0.0001, 'epochs': 10, 'final_accuracy': 20.392953929539296, 'final_loss': 75.69480204582214, 'precision': 0.03395979759255587, 'recall': 0.1842818428184282, 'f1_score': 0.05735087099154744}\n",
      "{'dropout_rate': 0.5, 'learning_rate': 0.01, 'weight_decay': 0.0001, 'epochs': 20, 'final_accuracy': 39.22764227642276, 'final_loss': 67.43295383453369, 'precision': 0.30956440318486994, 'recall': 0.42005420054200543, 'f1_score': 0.33573894089660156}\n"
     ]
    }
   ],
   "source": [
    "results = []\n",
    "# Inizia la grid search\n",
    "for dropout_rate in dropout_list:\n",
    "    for lr in learning_rate_list:\n",
    "        for weight_decay in weight_decay_list:\n",
    "            for epochs in epoch_list:\n",
    "                print(f\"Training with dropout {dropout_rate}, lr {lr}, wd {weight_decay}, epochs {epochs}...\")\n",
    "                \n",
    "                # Definisci il modello\n",
    "                model = DualInputModel(dropout_rate=dropout_rate).to(device)\n",
    "                optimizer = optim.Adam(model.parameters(), lr=lr, weight_decay=weight_decay)\n",
    "                criterion = nn.CrossEntropyLoss()\n",
    "\n",
    "                # Training loop\n",
    "                model.train()\n",
    "                all_labels = []  # Per tenere traccia di tutte le etichette\n",
    "                all_predictions = []  # Per tenere traccia di tutte le predizioni\n",
    "\n",
    "                for epoch in range(epochs):\n",
    "                    epoch_loss = 0\n",
    "                    correct = 0\n",
    "                    total = 0\n",
    "                    for top_imgs, bottom_imgs, labels in train_loader:\n",
    "\n",
    "                        top_imgs, bottom_imgs, labels = top_imgs.to(device), bottom_imgs.to(device), labels.to(device)\n",
    "\n",
    "                        optimizer.zero_grad()\n",
    "                        outputs = model(top_imgs, bottom_imgs)\n",
    "                        loss = criterion(outputs, labels)\n",
    "                        loss.backward()\n",
    "                        optimizer.step()\n",
    "\n",
    "                        epoch_loss += loss.item()\n",
    "                        _, predicted = outputs.max(1)\n",
    "                        total += labels.size(0)\n",
    "                        correct += predicted.eq(labels).sum().item()\n",
    "                        \n",
    "                        # Aggiungi le etichette e le predizioni alla lista\n",
    "                        all_labels.extend(labels.cpu().numpy())\n",
    "                        all_predictions.extend(predicted.cpu().numpy())\n",
    "                    \n",
    "                    print(f\"Epoch {epoch+1}/{epochs}, Loss: {epoch_loss:.4f}, Accuracy: {100. * correct / total:.2f}%\")\n",
    "\n",
    "                # Ora valutiamo il modello sul test set\n",
    "                model.eval()\n",
    "                all_labels = []  # Per tenere traccia di tutte le etichette\n",
    "                all_predictions = []  # Per tenere traccia di tutte le predizioni\n",
    "\n",
    "                with torch.no_grad():  # Disabilita il calcolo del gradiente per la valutazione\n",
    "                    for top_imgs, bottom_imgs, labels in test_loader:\n",
    "                        top_imgs, bottom_imgs, labels = top_imgs.to(device), bottom_imgs.to(device), labels.to(device)\n",
    "\n",
    "                        outputs = model(top_imgs, bottom_imgs)\n",
    "                        _, predicted = outputs.max(1)\n",
    "\n",
    "                        all_labels.extend(labels.cpu().numpy())\n",
    "                        all_predictions.extend(predicted.cpu().numpy())\n",
    "                \n",
    "                # Calcola precision, recall, f1 score sul test set\n",
    "                precision = precision_score(all_labels, all_predictions, average='weighted', zero_division=0)\n",
    "                recall = recall_score(all_labels, all_predictions, average='weighted', zero_division=0)\n",
    "                f1 = f1_score(all_labels, all_predictions, average='weighted', zero_division=0)\n",
    "\n",
    "                # Registra risultati finali\n",
    "                results.append({\n",
    "                    \"dropout_rate\": dropout_rate,\n",
    "                    \"learning_rate\": lr,\n",
    "                    \"weight_decay\": weight_decay,\n",
    "                    \"epochs\": epochs,\n",
    "                    \"final_accuracy\": 100. * correct / total,\n",
    "                    \"final_loss\": epoch_loss,\n",
    "                    \"precision\": precision,\n",
    "                    \"recall\": recall,\n",
    "                    \"f1_score\": f1\n",
    "                })\n",
    "\n",
    "# Mostra i risultati\n",
    "print(\"Results:\")\n",
    "for result in results:\n",
    "    print(result)"
   ]
  },
  {
   "cell_type": "markdown",
   "metadata": {},
   "source": [
    "Find best parameters (tradeoff between Accuracy and F1-score)"
   ]
  },
  {
   "cell_type": "code",
   "execution_count": 15,
   "metadata": {},
   "outputs": [],
   "source": [
    "import matplotlib.pyplot as plt\n",
    "import seaborn as sns\n",
    "import pandas as pd\n",
    "\n",
    "# Converte la lista dei risultati in un DataFrame pandas\n",
    "results_df = pd.DataFrame(results)"
   ]
  },
  {
   "cell_type": "code",
   "execution_count": 16,
   "metadata": {},
   "outputs": [
    {
     "name": "stdout",
     "output_type": "stream",
     "text": [
      "Combinazione migliore per Accuracy e F1 Score:\n",
      "dropout_rate       0.250000\n",
      "learning_rate      0.010000\n",
      "weight_decay       0.000100\n",
      "epochs            20.000000\n",
      "final_accuracy    39.972900\n",
      "final_loss        66.410552\n",
      "precision          0.494542\n",
      "recall             0.447154\n",
      "f1_score           0.410105\n",
      "tradeoff_score    20.191502\n",
      "Name: 3, dtype: float64\n",
      "\n",
      "Top 5 combinazioni per Accuracy e F1 Score:\n",
      "   dropout_rate  learning_rate  weight_decay  epochs  final_accuracy  \\\n",
      "3          0.25           0.01        0.0001      20       39.972900   \n",
      "1          0.00           0.01        0.0001      20       39.227642   \n",
      "2          0.25           0.01        0.0001      10       39.227642   \n",
      "5          0.50           0.01        0.0001      20       39.227642   \n",
      "4          0.50           0.01        0.0001      10       20.392954   \n",
      "\n",
      "   final_loss  precision    recall  f1_score  tradeoff_score  \n",
      "3   66.410552   0.494542  0.447154  0.410105       20.191502  \n",
      "1   66.588457   0.435321  0.414634  0.373314       19.800478  \n",
      "2   66.764030   0.410576  0.428184  0.370354       19.798998  \n",
      "5   67.432954   0.309564  0.420054  0.335739       19.781691  \n",
      "4   75.694802   0.033960  0.184282  0.057351       10.225152  \n"
     ]
    }
   ],
   "source": [
    "# Calcolo del punteggio di trade-off\n",
    "results_df[\"tradeoff_score\"] = (results_df[\"final_accuracy\"] + results_df[\"f1_score\"]) / 2\n",
    "\n",
    "# Trovare la combinazione con il punteggio di trade-off massimo\n",
    "best_combination = results_df.sort_values(by=\"tradeoff_score\", ascending=False).iloc[0]\n",
    "\n",
    "print(\"Combinazione migliore per Accuracy e F1 Score:\")\n",
    "print(best_combination)\n",
    "\n",
    "# Visualizzare le prime 5 combinazioni\n",
    "top_5_combinations = results_df.sort_values(by=\"tradeoff_score\", ascending=False).head(5)\n",
    "print(\"\\nTop 5 combinazioni per Accuracy e F1 Score:\")\n",
    "print(top_5_combinations)"
   ]
  },
  {
   "cell_type": "code",
   "execution_count": 35,
   "metadata": {},
   "outputs": [
    {
     "data": {
      "image/png": "[encoded data removed]",
      "text/plain": [
       "<Figure size 1000x600 with 1 Axes>"
      ]
     },
     "metadata": {},
     "output_type": "display_data"
    }
   ],
   "source": [
    "# Visualizzare graficamente il trade-off tra Accuracy e F1 Score\n",
    "import matplotlib.pyplot as plt\n",
    "import seaborn as sns\n",
    "\n",
    "plt.figure(figsize=(10, 6))\n",
    "sns.scatterplot(\n",
    "    data=results_df, \n",
    "    x=\"final_accuracy\", \n",
    "    y=\"f1_score\", \n",
    "    hue=\"tradeoff_score\", \n",
    "    size=\"tradeoff_score\", \n",
    "    palette=\"viridis\", \n",
    "    legend=\"brief\"\n",
    ")\n",
    "plt.title(\"Trade-off tra Accuracy e F1 Score\")\n",
    "plt.xlabel(\"Accuracy (%)\")\n",
    "plt.ylabel(\"F1 Score\")\n",
    "plt.axhline(y=best_combination[\"f1_score\"], color=\"r\", linestyle=\"--\", label=\"Miglior F1 Score\")\n",
    "plt.axvline(x=best_combination[\"final_accuracy\"], color=\"g\", linestyle=\"--\", label=\"Miglior Accuracy\")\n",
    "plt.legend()\n",
    "plt.grid()\n",
    "plt.show()"
   ]
  },
  {
   "cell_type": "code",
   "execution_count": null,
   "metadata": {},
   "outputs": [],
   "source": []
  }
 ],
 "metadata": {
  "kernelspec": {
   "display_name": ".env",
   "language": "python",
   "name": "python3"
  },
  "language_info": {
   "codemirror_mode": {
    "name": "ipython",
    "version": 3
   },
   "file_extension": ".py",
   "mimetype": "text/x-python",
   "name": "python",
   "nbconvert_exporter": "python",
   "pygments_lexer": "ipython3",
   "version": "3.12.6"
  }
 },
 "nbformat": 4,
 "nbformat_minor": 2
}
