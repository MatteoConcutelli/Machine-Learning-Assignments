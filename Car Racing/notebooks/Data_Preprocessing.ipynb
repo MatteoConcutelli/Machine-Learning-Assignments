{
 "cells": [
  {
   "cell_type": "code",
   "execution_count": 5,
   "metadata": {},
   "outputs": [],
   "source": [
    "# imports\n",
    "import os\n",
    "from PIL import Image\n",
    "from torchvision import transforms\n",
    "import torch\n",
    "import cv2\n",
    "import numpy as np\n",
    "from matplotlib import pyplot as plt\n",
    "import shutil\n",
    "import random"
   ]
  },
  {
   "cell_type": "markdown",
   "metadata": {},
   "source": [
    "# Data Balancing"
   ]
  },
  {
   "cell_type": "code",
   "execution_count": 23,
   "metadata": {},
   "outputs": [
    {
     "name": "stdout",
     "output_type": "stream",
     "text": [
      "Numero minimo di immagini per cartella: 369\n",
      "Classe 0: 1000 immagini disponibili.\n",
      "Copiate 369 immagini in ./train_balanced\\0.\n",
      "Classe 1: 1500 immagini disponibili.\n",
      "Copiate 369 immagini in ./train_balanced\\1.\n",
      "Classe 2: 1500 immagini disponibili.\n",
      "Copiate 369 immagini in ./train_balanced\\2.\n",
      "Classe 3: 2000 immagini disponibili.\n",
      "Copiate 369 immagini in ./train_balanced\\3.\n",
      "Classe 4: 369 immagini disponibili.\n",
      "Copiate 369 immagini in ./train_balanced\\4.\n"
     ]
    }
   ],
   "source": [
    "def balance_datasets(src_dirs, dest_dir):\n",
    "    # Crea la cartella di destinazione se non esiste\n",
    "    if not os.path.exists(dest_dir):\n",
    "        os.makedirs(dest_dir)\n",
    "    \n",
    "    # Trova il numero minimo di immagini tra tutte le cartelle\n",
    "    min_images = min([len(os.listdir(src)) for src in src_dirs if os.path.isdir(src)])\n",
    "    print(f\"Numero minimo di immagini per cartella: {min_images}\")\n",
    "    \n",
    "    # Per ogni cartella di origine, copiamo un numero minimo di immagini\n",
    "    for src_dir in src_dirs:\n",
    "        # Verifica che la cartella sorgente esista ed è una directory\n",
    "        if not os.path.isdir(src_dir):\n",
    "            print(f\"Attenzione: la cartella {src_dir} non è valida.\")\n",
    "            continue\n",
    "\n",
    "        # Crea la cartella di destinazione per ciascuna classe\n",
    "        class_name = os.path.basename(src_dir.rstrip('/'))\n",
    "        dest_class_dir = os.path.join(dest_dir, class_name)\n",
    "        if not os.path.exists(dest_class_dir):\n",
    "            os.makedirs(dest_class_dir)\n",
    "        \n",
    "        # Ottieni la lista di tutte le immagini nella cartella\n",
    "        images = [img for img in os.listdir(src_dir) if os.path.isfile(os.path.join(src_dir, img))]\n",
    "        print(f\"Classe {class_name}: {len(images)} immagini disponibili.\")\n",
    "        \n",
    "        # Verifica se ci sono abbastanza immagini\n",
    "        if len(images) < min_images:\n",
    "            print(f\"Classe {class_name} ha meno immagini di {min_images}. Procedo comunque con {len(images)} immagini.\")\n",
    "            selected_images = images  # Usa tutte le immagini disponibili\n",
    "        else:\n",
    "            selected_images = random.sample(images, min_images)  # Seleziona un numero di immagini pari al minimo\n",
    "        \n",
    "        # Copia le immagini selezionate nella cartella di destinazione\n",
    "        for img in selected_images:\n",
    "            src_img_path = os.path.join(src_dir, img)\n",
    "            dest_img_path = os.path.join(dest_class_dir, img)\n",
    "            shutil.copy(src_img_path, dest_img_path)\n",
    "        print(f\"Copiate {len(selected_images)} immagini in {dest_class_dir}.\")\n",
    "\n",
    "# Esempio di uso\n",
    "src_dirs = [\"./train/0\", \"./train/1\", \"./train/2\", \"./train/3\", \"./train/4\"]\n",
    "dest_dir = \"./train_balanced\"\n",
    "balance_datasets(src_dirs, dest_dir)\n"
   ]
  },
  {
   "cell_type": "code",
   "execution_count": 24,
   "metadata": {},
   "outputs": [
    {
     "data": {
      "text/plain": [
       "[369, 369, 369, 369, 369]"
      ]
     },
     "execution_count": 24,
     "metadata": {},
     "output_type": "execute_result"
    }
   ],
   "source": [
    "[len(os.listdir(os.path.join('train_balanced/0'))),\n",
    " len(os.listdir(os.path.join('train_balanced/1'))),\n",
    " len(os.listdir(os.path.join('train_balanced/2'))),\n",
    " len(os.listdir(os.path.join('train_balanced/3'))),\n",
    " len(os.listdir(os.path.join('train_balanced/4')))]"
   ]
  },
  {
   "cell_type": "markdown",
   "metadata": {},
   "source": [
    "# Data Augmentation"
   ]
  },
  {
   "cell_type": "markdown",
   "metadata": {},
   "source": [
    "## Horizontal Flip"
   ]
  },
  {
   "cell_type": "markdown",
   "metadata": {},
   "source": [
    "### Implementation"
   ]
  },
  {
   "cell_type": "code",
   "execution_count": 2,
   "metadata": {},
   "outputs": [
    {
     "data": {
      "image/png": "[encoded data removed]",
      "text/plain": [
       "<Figure size 640x480 with 1 Axes>"
      ]
     },
     "metadata": {},
     "output_type": "display_data"
    }
   ],
   "source": [
    "test_img_path = os.path.join('./temp.png') # img taken from steer-left class\n",
    "img = cv2.imread(test_img_path)\n",
    "\n",
    "plt.imshow(img)\n",
    "plt.show()"
   ]
  },
  {
   "cell_type": "markdown",
   "metadata": {},
   "source": [
    "We want to flip the image in horizontal, but not the panel. And since flipping the image leads to a different class (right to left and viceversa) the green sign need to be adjusted.\n",
    "\n",
    "So, now we crop the green sign and flip on the opposite part.\n",
    "\n",
    "Position of the green sign:\n",
    "48 pixels : the center\n",
    "18 pixels : lenght for steer "
   ]
  },
  {
   "cell_type": "code",
   "execution_count": 7,
   "metadata": {},
   "outputs": [],
   "source": [
    "def crop_panel(image):\n",
    "    img = image.copy()\n",
    "    # Ritaglia la parte superiore (macchina) e inferiore (pannello)\n",
    "    \n",
    "    panel_crop = img[84:96, 0:96]  # Prendi i pixel da 84 a 96 lungo l'altezza (H)\n",
    "\n",
    "    return panel_crop"
   ]
  },
  {
   "cell_type": "code",
   "execution_count": 4,
   "metadata": {},
   "outputs": [
    {
     "data": {
      "image/png": "[encoded data removed]",
      "text/plain": [
       "<Figure size 640x480 with 1 Axes>"
      ]
     },
     "metadata": {},
     "output_type": "display_data"
    }
   ],
   "source": [
    "panel = crop_panel(img)\n",
    "\n",
    "plt.imshow(panel)\n",
    "plt.show()"
   ]
  },
  {
   "cell_type": "code",
   "execution_count": 3,
   "metadata": {},
   "outputs": [],
   "source": [
    "def adjust_left_signal(panel):\n",
    "\n",
    "    updated_panel = panel.copy()\n",
    "\n",
    "    img_height, img_width, _ = panel.shape\n",
    "    center = img_width // 2\n",
    "\n",
    "    sign_width = 18\n",
    "    sign_top_left = [center - sign_width, img_height - 10]\n",
    "    sign_bot_right = [center, img_height - 4]\n",
    "\n",
    "\n",
    "    # Crop the green sign\n",
    "    green_sign = panel[sign_top_left[1]:sign_bot_right[1], sign_top_left[0]:sign_bot_right[0]]\n",
    "\n",
    "    flipped_green_sign = green_sign[:, ::-1]\n",
    "    \n",
    "    # Calcola la nuova posizione per traslare di 18 pixel verso destra\n",
    "    new_sign_top_left = [sign_top_left[0] + sign_width, sign_top_left[1]]\n",
    "    new_sign_bot_right = [sign_bot_right[0] + sign_width, sign_bot_right[1]]\n",
    "\n",
    "    # Rimpiazza la porzione originale con il segnale flippato\n",
    "    updated_panel[sign_top_left[1]:sign_bot_right[1], sign_top_left[0]:sign_bot_right[0]] = 0\n",
    "    updated_panel[new_sign_top_left[1]:new_sign_bot_right[1], new_sign_top_left[0]:new_sign_bot_right[0]] = flipped_green_sign\n",
    "    \n",
    "    return updated_panel"
   ]
  },
  {
   "cell_type": "code",
   "execution_count": 8,
   "metadata": {},
   "outputs": [],
   "source": [
    "def adjust_right_signal(panel):\n",
    "\n",
    "    updated_panel = panel.copy()\n",
    "\n",
    "    img_height, img_width, _ = panel.shape\n",
    "    center = img_width // 2\n",
    "\n",
    "    sign_width = 18\n",
    "    sign_top_left = [center, img_height - 10]\n",
    "    sign_bot_right = [center + sign_width, img_height - 4]\n",
    "\n",
    "\n",
    "    # Crop the green sign\n",
    "    green_sign = panel[sign_top_left[1]:sign_bot_right[1], sign_top_left[0]:sign_bot_right[0]]\n",
    "\n",
    "    flipped_green_sign = green_sign[:, ::-1]\n",
    "    \n",
    "    # Calcola la nuova posizione per traslare di 18 pixel verso destra\n",
    "    new_sign_top_left = [sign_top_left[0] - sign_width, sign_top_left[1]]\n",
    "    new_sign_bot_right = [sign_bot_right[0] - sign_width, sign_bot_right[1]]\n",
    "\n",
    "    # Rimpiazza la porzione originale con il segnale flippato\n",
    "    updated_panel[sign_top_left[1]:sign_bot_right[1], sign_top_left[0]:sign_bot_right[0]] = 0\n",
    "    updated_panel[new_sign_top_left[1]:new_sign_bot_right[1], new_sign_top_left[0]:new_sign_bot_right[0]] = flipped_green_sign\n",
    "    \n",
    "    return updated_panel\n",
    "    "
   ]
  },
  {
   "cell_type": "code",
   "execution_count": 10,
   "metadata": {},
   "outputs": [
    {
     "data": {
      "image/png": "[encoded data removed]",
      "text/plain": [
       "<Figure size 640x480 with 1 Axes>"
      ]
     },
     "metadata": {},
     "output_type": "display_data"
    }
   ],
   "source": [
    "plt.imshow(adjust_left_signal(panel=panel))\n",
    "plt.show()"
   ]
  },
  {
   "cell_type": "code",
   "execution_count": 103,
   "metadata": {},
   "outputs": [
    {
     "data": {
      "image/png": "[encoded data removed]",
      "text/plain": [
       "<Figure size 640x480 with 1 Axes>"
      ]
     },
     "metadata": {},
     "output_type": "display_data"
    }
   ],
   "source": [
    "plt.imshow(crop_panel(img))\n",
    "plt.show()"
   ]
  },
  {
   "cell_type": "markdown",
   "metadata": {},
   "source": [
    "Let us now flip the entire image and adjust the panel"
   ]
  },
  {
   "cell_type": "code",
   "execution_count": 4,
   "metadata": {},
   "outputs": [],
   "source": [
    "def flip_right(image):\n",
    "    img = image.copy()\n",
    "\n",
    "    panel = crop_panel(img)\n",
    "    adjusted_panel = adjust_left_signal(panel)\n",
    "\n",
    "    # Flippa l'intera immagine\n",
    "    flipped_img = img[:, ::-1]\n",
    "\n",
    "    # Inserisci il pannello corretto nella nuova immagine\n",
    "    flipped_img[84:96, 0:96] = adjusted_panel\n",
    "\n",
    "    return flipped_img"
   ]
  },
  {
   "cell_type": "code",
   "execution_count": 5,
   "metadata": {},
   "outputs": [],
   "source": [
    "def flip_left(image):\n",
    "    img = image.copy()\n",
    "\n",
    "    panel = crop_panel(img)\n",
    "    adjusted_panel = adjust_right_signal(panel)\n",
    "\n",
    "    # Flippa l'intera immagine\n",
    "    flipped_img = img[:, ::-1]\n",
    "\n",
    "    # Inserisci il pannello corretto nella nuova immagine\n",
    "    flipped_img[84:96, 0:96] = adjusted_panel\n",
    "\n",
    "    return flipped_img"
   ]
  },
  {
   "cell_type": "code",
   "execution_count": 25,
   "metadata": {},
   "outputs": [
    {
     "data": {
      "image/png": "[encoded data removed]",
      "text/plain": [
       "<Figure size 640x480 with 1 Axes>"
      ]
     },
     "metadata": {},
     "output_type": "display_data"
    },
    {
     "data": {
      "image/png": "[encoded data removed]",
      "text/plain": [
       "<Figure size 640x480 with 1 Axes>"
      ]
     },
     "metadata": {},
     "output_type": "display_data"
    }
   ],
   "source": [
    "# original\n",
    "plt.imshow(img)\n",
    "plt.show()\n",
    "\n",
    "#flipped\n",
    "plt.imshow(flip_right(img))\n",
    "plt.show()"
   ]
  },
  {
   "cell_type": "markdown",
   "metadata": {},
   "source": [
    "### Dataset creation"
   ]
  },
  {
   "cell_type": "code",
   "execution_count": 9,
   "metadata": {},
   "outputs": [],
   "source": [
    "from PIL import Image\n",
    "\n",
    "def create_flipped_steer_dataset(input_dir, output_dir, side):\n",
    "    \"\"\"Crea un nuovo dataset con immagini flippate e pannelli regolati.\"\"\"\n",
    "    if not os.path.exists(output_dir):\n",
    "        os.makedirs(output_dir)\n",
    "\n",
    "    for filename in os.listdir(input_dir):\n",
    "        if not filename.endswith((\".jpg\", \".png\")):\n",
    "            continue\n",
    "\n",
    "        # Carica l'immagine\n",
    "        img_path = os.path.join(input_dir, filename)\n",
    "        img = np.array(Image.open(img_path))\n",
    "\n",
    "        flipped_img = None\n",
    "        if side == 'LEFT':\n",
    "            flipped_img = flip_left(img)\n",
    "        elif side == 'RIGHT':\n",
    "            flipped_img = flip_right(img)\n",
    "        else:\n",
    "            print(\"Check the side!\")\n",
    "            return\n",
    "\n",
    "        # Salva il risultato\n",
    "        output_path = os.path.join(output_dir, filename)\n",
    "        Image.fromarray(img).save(output_path)\n",
    "        output_path = os.path.join(output_dir, \"aug_\" + filename)\n",
    "        Image.fromarray(flipped_img.astype('uint8')).save(output_path)\n",
    "        \n",
    "        #print(f\"Processed and saved: {filename}\")"
   ]
  },
  {
   "cell_type": "code",
   "execution_count": 26,
   "metadata": {},
   "outputs": [],
   "source": [
    "create_flipped_steer_dataset('./train_balanced/2', './train_balanced_augmented/1', 'RIGHT')"
   ]
  },
  {
   "cell_type": "code",
   "execution_count": 27,
   "metadata": {},
   "outputs": [],
   "source": [
    "create_flipped_steer_dataset('./train_balanced/1', './train_balanced_augmented/2', 'LEFT')"
   ]
  },
  {
   "cell_type": "markdown",
   "metadata": {},
   "source": [
    "#### Flipped not steered"
   ]
  },
  {
   "cell_type": "code",
   "execution_count": 28,
   "metadata": {},
   "outputs": [],
   "source": [
    "def flip_no_steer(image):\n",
    "    img = image.copy()\n",
    "\n",
    "    panel = crop_panel(img)\n",
    "\n",
    "    # Flippa l'intera immagine\n",
    "    flipped_img = img[:, ::-1]\n",
    "\n",
    "    # Inserisci il pannello corretto nella nuova immagine\n",
    "    flipped_img[84:96, 0:96] = panel\n",
    "\n",
    "    return flipped_img"
   ]
  },
  {
   "cell_type": "code",
   "execution_count": 29,
   "metadata": {},
   "outputs": [],
   "source": [
    "def create_flipped_dataset(input_dir, output_dir):\n",
    "    \"\"\"Crea un nuovo dataset con immagini flippate e pannelli regolati.\"\"\"\n",
    "    if not os.path.exists(output_dir):\n",
    "        os.makedirs(output_dir)\n",
    "\n",
    "    for filename in os.listdir(input_dir):\n",
    "        if not filename.endswith((\".jpg\", \".png\")):\n",
    "            continue\n",
    "\n",
    "        # Carica l'immagine\n",
    "        img_path = os.path.join(input_dir, filename)\n",
    "        img = np.array(Image.open(img_path))\n",
    "\n",
    "        flipped_img = flip_no_steer(img)\n",
    "\n",
    "        # Salva il risultato\n",
    "        output_path = os.path.join(output_dir, filename)\n",
    "        Image.fromarray(img).save(output_path)\n",
    "        output_path = os.path.join(output_dir, \"aug_\" + filename)\n",
    "        Image.fromarray(flipped_img.astype('uint8')).save(output_path)\n",
    "        \n",
    "        #print(f\"Processed and saved: {filename}\")"
   ]
  },
  {
   "cell_type": "code",
   "execution_count": 30,
   "metadata": {},
   "outputs": [],
   "source": [
    "create_flipped_dataset('./train_balanced/0', './train_balanced_augmented/0')"
   ]
  },
  {
   "cell_type": "code",
   "execution_count": 31,
   "metadata": {},
   "outputs": [],
   "source": [
    "create_flipped_dataset('./train_balanced/3', './train_balanced_augmented/3')"
   ]
  },
  {
   "cell_type": "code",
   "execution_count": 32,
   "metadata": {},
   "outputs": [],
   "source": [
    "create_flipped_dataset('./train_balanced/4', './train_balanced_augmented/4')"
   ]
  },
  {
   "cell_type": "code",
   "execution_count": 33,
   "metadata": {},
   "outputs": [
    {
     "data": {
      "text/plain": [
       "[738, 738, 738, 738, 738]"
      ]
     },
     "execution_count": 33,
     "metadata": {},
     "output_type": "execute_result"
    }
   ],
   "source": [
    "[len(os.listdir(os.path.join('train_balanced_augmented/0'))),\n",
    " len(os.listdir(os.path.join('train_balanced_augmented/1'))),\n",
    " len(os.listdir(os.path.join('train_balanced_augmented/2'))),\n",
    " len(os.listdir(os.path.join('train_balanced_augmented/3'))),\n",
    " len(os.listdir(os.path.join('train_balanced_augmented/4')))]"
   ]
  },
  {
   "cell_type": "markdown",
   "metadata": {},
   "source": [
    "## Mark edges"
   ]
  },
  {
   "cell_type": "code",
   "execution_count": 1,
   "metadata": {},
   "outputs": [],
   "source": [
    "def preprocess_images(input_dir, output_dir):\n",
    "    os.makedirs(output_dir, exist_ok=True)  # Creare la directory di output\n",
    "    \n",
    "    i = 0\n",
    "    for filename in os.listdir(input_dir):\n",
    "        \n",
    "        if filename.endswith(('.jpg', '.png', '.jpeg')):\n",
    "            filepath = os.path.join(input_dir, filename)\n",
    "            \n",
    "            # Leggere l'immagine\n",
    "            img = cv2.imread(filepath, cv2.IMREAD_GRAYSCALE)\n",
    "            \n",
    "            # Applica il filtro Sobel per evidenziare le linee\n",
    "            sobelx = cv2.Sobel(img, cv2.CV_64F, 1, 0, ksize=3)  # Bordi verticali\n",
    "            sobely = cv2.Sobel(img, cv2.CV_64F, 0, 1, ksize=3)  # Bordi orizzontali\n",
    "            sobel_combined = cv2.magnitude(sobelx, sobely)      # Combina i bordi\n",
    "            \n",
    "            # Normalizza il risultato per salvarlo\n",
    "            sobel_combined = np.uint8(cv2.normalize(sobel_combined, None, 0, 255, cv2.NORM_MINMAX))\n",
    "            \n",
    "            # Salva l'immagine preprocessata\n",
    "            output_path = os.path.join(output_dir, filename)\n",
    "            cv2.imwrite(output_path, sobel_combined)\n",
    "            i += 1\n",
    "\n",
    "            # Facoltativo: mostra una preview\n",
    "            #plt.imshow(sobel_combined, cmap='gray')\n",
    "            #plt.title(f\"Preprocessed: {filename}\")\n",
    "            #plt.show()"
   ]
  },
  {
   "cell_type": "code",
   "execution_count": 2,
   "metadata": {},
   "outputs": [],
   "source": [
    "def preprocess_images_top_only(input_dir, output_dir):\n",
    "    os.makedirs(output_dir, exist_ok=True)  # Creare la directory di output\n",
    "    \n",
    "    for filename in os.listdir(input_dir):\n",
    "        if filename.endswith(('.jpg', '.png', '.jpeg')):\n",
    "            filepath = os.path.join(input_dir, filename)\n",
    "            \n",
    "            # Leggi l'immagine\n",
    "            img = cv2.imread(filepath, cv2.IMREAD_GRAYSCALE)\n",
    "            height, width = img.shape\n",
    "            \n",
    "            # Ritaglia il pannello inferiore e copia\n",
    "            \n",
    "            panel = crop_panel(img)\n",
    "            top_img = img[:height - panel.shape[0], :]  # Parte superiore\n",
    "            \n",
    "            # Applica il filtro Sobel solo alla parte superiore\n",
    "            sobelx = cv2.Sobel(top_img, cv2.CV_64F, 1, 0, ksize=3)  # Bordi verticali\n",
    "            sobely = cv2.Sobel(top_img, cv2.CV_64F, 0, 1, ksize=3)  # Bordi orizzontali\n",
    "            sobel_combined = cv2.magnitude(sobelx, sobely)          # Combina i bordi\n",
    "            \n",
    "            # Normalizza la parte superiore\n",
    "            sobel_combined = np.uint8(cv2.normalize(sobel_combined, None, 0, 255, cv2.NORM_MINMAX))\n",
    "            \n",
    "            # Ricombina il pannello originale\n",
    "            combined_image = np.vstack((sobel_combined, panel))\n",
    "            \n",
    "            # Salva l'immagine finale\n",
    "            output_path = os.path.join(output_dir, filename)\n",
    "            cv2.imwrite(output_path, combined_image)"
   ]
  },
  {
   "cell_type": "code",
   "execution_count": 21,
   "metadata": {},
   "outputs": [],
   "source": [
    "# Cartelle del dataset\n",
    "input_dir = 'train_balanced/4'\n",
    "output_dir = 'train_balanced_edges/4'"
   ]
  },
  {
   "cell_type": "code",
   "execution_count": 22,
   "metadata": {},
   "outputs": [],
   "source": [
    "# Preprocessing\n",
    "preprocess_images_top_only(input_dir, output_dir)"
   ]
  },
  {
   "cell_type": "code",
   "execution_count": 23,
   "metadata": {},
   "outputs": [
    {
     "name": "stdout",
     "output_type": "stream",
     "text": [
      "369\n"
     ]
    },
    {
     "data": {
      "text/plain": [
       "369"
      ]
     },
     "execution_count": 23,
     "metadata": {},
     "output_type": "execute_result"
    }
   ],
   "source": [
    "print(len(os.listdir(os.path.join(input_dir))))\n",
    "len(os.listdir(os.path.join(output_dir)))"
   ]
  },
  {
   "cell_type": "markdown",
   "metadata": {},
   "source": [
    "# Remove augmented files"
   ]
  },
  {
   "cell_type": "code",
   "execution_count": null,
   "metadata": {},
   "outputs": [
    {
     "ename": "NameError",
     "evalue": "name 'os' is not defined",
     "output_type": "error",
     "traceback": [
      "\u001b[1;31m---------------------------------------------------------------------------\u001b[0m\n",
      "\u001b[1;31mNameError\u001b[0m                                 Traceback (most recent call last)\n",
      "Cell \u001b[1;32mIn[1], line 1\u001b[0m\n",
      "\u001b[1;32m----> 1\u001b[0m \u001b[38;5;28mlen\u001b[39m(\u001b[43mos\u001b[49m\u001b[38;5;241m.\u001b[39mlistdir(os\u001b[38;5;241m.\u001b[39mpath\u001b[38;5;241m.\u001b[39mjoin(\u001b[38;5;124m'\u001b[39m\u001b[38;5;124mtrain/edges/0\u001b[39m\u001b[38;5;124m'\u001b[39m)))\n",
      "\n",
      "\u001b[1;31mNameError\u001b[0m: name 'os' is not defined"
     ]
    }
   ],
   "source": [
    "len(os.listdir(os.path.join('train/edges/0')))"
   ]
  },
  {
   "cell_type": "code",
   "execution_count": null,
   "metadata": {},
   "outputs": [],
   "source": [
    "for filename in os.listdir('train/edges/0'):\n",
    "    if filename.startswith('aug'):\n",
    "        os.remove(os.path.join('train/edges/0', filename))"
   ]
  }
 ],
 "metadata": {
  "kernelspec": {
   "display_name": ".env",
   "language": "python",
   "name": "python3"
  },
  "language_info": {
   "codemirror_mode": {
    "name": "ipython",
    "version": 3
   },
   "file_extension": ".py",
   "mimetype": "text/x-python",
   "name": "python",
   "nbconvert_exporter": "python",
   "pygments_lexer": "ipython3",
   "version": "3.12.6"
  }
 },
 "nbformat": 4,
 "nbformat_minor": 2
}
