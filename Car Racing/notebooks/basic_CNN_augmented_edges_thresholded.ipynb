{
 "cells": [
  {
   "cell_type": "code",
   "execution_count": 1,
   "metadata": {},
   "outputs": [],
   "source": [
    "# imports\n",
    "import os\n",
    "import numpy as np\n",
    "import torch\n",
    "import torch.nn as nn\n",
    "import torch.optim as optim\n",
    "from torchvision import datasets, transforms\n",
    "from torch.utils.data import DataLoader\n",
    "from sklearn.metrics import classification_report\n",
    "import matplotlib.pyplot as plt"
   ]
  },
  {
   "cell_type": "code",
   "execution_count": 2,
   "metadata": {},
   "outputs": [
    {
     "name": "stdout",
     "output_type": "stream",
     "text": [
      "Using device: cpu\n"
     ]
    }
   ],
   "source": [
    "# Imposta il device\n",
    "device = torch.device(\"cuda\" if torch.cuda.is_available() else \"cpu\")\n",
    "print(f\"Using device: {device}\")"
   ]
  },
  {
   "cell_type": "code",
   "execution_count": 3,
   "metadata": {},
   "outputs": [],
   "source": [
    "class ApplyThreshold:\n",
    "    def __init__(self, threshold=0.5):\n",
    "        self.threshold = threshold\n",
    "\n",
    "    def __call__(self, tensor):\n",
    "        # Applica la thresholding: valori >= threshold diventano 1, altri diventano 0\n",
    "        return (tensor >= self.threshold).float()"
   ]
  },
  {
   "cell_type": "code",
   "execution_count": 4,
   "metadata": {},
   "outputs": [
    {
     "data": {
      "image/png": "[encoded data removed]",
      "text/plain": [
       "<Figure size 640x480 with 1 Axes>"
      ]
     },
     "metadata": {},
     "output_type": "display_data"
    }
   ],
   "source": [
    "from PIL import Image\n",
    "\n",
    "# Carica l'immagine\n",
    "img = Image.open(\"./test_edges/0/0000.png\").convert(\"L\")  # Converte in scala di grigi\n",
    "\n",
    "# Converti l'immagine in tensore\n",
    "transform_to_tensor = transforms.ToTensor()\n",
    "img = transform_to_tensor(img)\n",
    "\n",
    "# Applica la threshold\n",
    "img = (img >= 0.1).float()\n",
    "\n",
    "# Rimuovi il canale in eccesso per plt.imshow\n",
    "plt.imshow(img.squeeze(), cmap=\"gray\")\n",
    "plt.title(\"Immagine Sogliata\")\n",
    "plt.show()"
   ]
  },
  {
   "cell_type": "code",
   "execution_count": 5,
   "metadata": {},
   "outputs": [],
   "source": [
    "from torchvision.datasets import ImageFolder\n",
    "from torch.utils.data import DataLoader, random_split\n",
    "\n",
    "# Percorso del dataset (immagini preprocessate con data augmentation)\n",
    "dataset_dir = \"./train_balanced_augmented_edges\"\n",
    "\n",
    "# Trasformazioni: Normalizzazione e Preprocessing finale\n",
    "transform = transforms.Compose([\n",
    "    #transforms.Resize((96, 96)),  # Assicura dimensioni coerenti\n",
    "    transforms.Grayscale(),\n",
    "    transforms.ToTensor(),  # Conversione a tensore\n",
    "    ApplyThreshold(threshold=0.1),\n",
    "])"
   ]
  },
  {
   "cell_type": "code",
   "execution_count": 6,
   "metadata": {},
   "outputs": [
    {
     "name": "stdout",
     "output_type": "stream",
     "text": [
      "Numero di immagini nel train set: 2952\n",
      "Numero di immagini nel test set: 738\n",
      "Classi disponibili: ['0', '1', '2', '3', '4']\n"
     ]
    }
   ],
   "source": [
    "# Creazione del Dataset\n",
    "dataset = ImageFolder(root=dataset_dir, transform=transform)\n",
    "\n",
    "# Suddivisione Train/Test\n",
    "train_size = int(0.8 * len(dataset))\n",
    "test_size = len(dataset) - train_size\n",
    "train_dataset, test_dataset = random_split(dataset, [train_size, test_size])\n",
    "\n",
    "# DataLoaders\n",
    "train_loader = DataLoader(train_dataset, batch_size=32, shuffle=False)\n",
    "test_loader = DataLoader(test_dataset, batch_size=32, shuffle=False)\n",
    "\n",
    "# Controllo rapido\n",
    "print(f\"Numero di immagini nel train set: {len(train_dataset)}\")\n",
    "print(f\"Numero di immagini nel test set: {len(test_dataset)}\")\n",
    "print(f\"Classi disponibili: {dataset.classes}\")"
   ]
  },
  {
   "cell_type": "code",
   "execution_count": 7,
   "metadata": {},
   "outputs": [],
   "source": [
    "class SimpleCNN(nn.Module):\n",
    "    def __init__(self):\n",
    "        super(SimpleCNN, self).__init__()\n",
    "\n",
    "        # Convolutional Section\n",
    "        self.network = nn.Sequential(\n",
    "            \n",
    "            nn.Conv2d(1, 16, kernel_size=3, padding=1),\n",
    "            nn.BatchNorm2d(16),\n",
    "            nn.ReLU(),\n",
    "            nn.MaxPool2d(2,2), \n",
    "\n",
    "            nn.Conv2d(16, 24, kernel_size=3, padding=1),\n",
    "            nn.BatchNorm2d(24),\n",
    "            nn.ReLU(),\n",
    "            nn.MaxPool2d(2, 2),   \n",
    "        )\n",
    "\n",
    "        # Fully Connected Section\n",
    "        self.fc = nn.Sequential(\n",
    "            nn.Flatten(),\n",
    "            nn.Linear(24 * 24 * 24, 512),  # Fully connected\n",
    "            nn.ReLU(),\n",
    "            nn.Dropout(0.5),\n",
    "            nn.Linear(512, 256),  # Fully connected\n",
    "            nn.ReLU(),\n",
    "            nn.Dropout(0.5),\n",
    "            nn.Linear(256, 128),  # Fully connected\n",
    "            nn.ReLU(),\n",
    "            nn.Dropout(0.5),\n",
    "            nn.Linear(128, 5) # 5 classi di output\n",
    "            \n",
    "        )\n",
    "\n",
    "    def forward(self, x):\n",
    "        x = self.network(x)\n",
    "        x = self.fc(x)\n",
    "        return x\n",
    "\n",
    "model = SimpleCNN().to(device)\n"
   ]
  },
  {
   "cell_type": "code",
   "execution_count": 8,
   "metadata": {},
   "outputs": [],
   "source": [
    "# Funzione di loss con pesi bilanciati\n",
    "criterion = nn.CrossEntropyLoss()\n",
    "\n",
    "optimizer = optim.Adam(model.parameters(), lr=0.001)\n",
    "#optimizer = torch.optim.RMSprop(model.parameters(), lr=0.001)\n",
    "#scheduler = optim.lr_scheduler.StepLR(optimizer, step_size=3, gamma=0.5) \n",
    "\n",
    "# Loop di training\n",
    "def train(model, loader, criterion, optimizer):\n",
    "    model.train()\n",
    "    running_loss = 0\n",
    "    correct = 0\n",
    "    for inputs, labels in loader:\n",
    "        inputs, labels = inputs.to(device), labels.to(device)\n",
    "\n",
    "        optimizer.zero_grad()\n",
    "        outputs = model(inputs)\n",
    "        loss = criterion(outputs, labels)\n",
    "        loss.backward()\n",
    "        optimizer.step()\n",
    "        #scheduler.step()\n",
    "\n",
    "        running_loss += loss.item()\n",
    "        _, preds = outputs.max(1)\n",
    "        correct += (preds == labels).sum().item()\n",
    "    \n",
    "    accuracy = 100 * correct / len(loader.dataset)\n",
    "    return running_loss / len(loader), accuracy"
   ]
  },
  {
   "cell_type": "code",
   "execution_count": 9,
   "metadata": {},
   "outputs": [],
   "source": [
    "def evaluate(model, loader):\n",
    "    model.eval()\n",
    "    y_true = []\n",
    "    y_pred = []\n",
    "\n",
    "    with torch.no_grad():\n",
    "        for inputs, labels in loader:\n",
    "            inputs, labels = inputs.to(device), labels.to(device)\n",
    "            outputs = model(inputs)\n",
    "            _, preds = outputs.max(1)\n",
    "            y_true.extend(labels.cpu().numpy())\n",
    "            y_pred.extend(preds.cpu().numpy())\n",
    "    \n",
    "    return y_true, y_pred"
   ]
  },
  {
   "cell_type": "code",
   "execution_count": 10,
   "metadata": {},
   "outputs": [
    {
     "name": "stdout",
     "output_type": "stream",
     "text": [
      "Epoch 1/6: Loss: 1.7109, Accuracy: 20.97%\n",
      "Epoch 2/6: Loss: 1.6111, Accuracy: 21.44%\n",
      "Epoch 3/6: Loss: 1.5839, Accuracy: 25.20%\n",
      "Epoch 4/6: Loss: 1.5357, Accuracy: 30.72%\n",
      "Epoch 5/6: Loss: 1.5203, Accuracy: 29.44%\n",
      "Epoch 6/6: Loss: 1.4958, Accuracy: 30.79%\n"
     ]
    }
   ],
   "source": [
    "num_epochs = 6\n",
    "\n",
    "for epoch in range(num_epochs):\n",
    "    train_loss, train_acc = train(model, train_loader, criterion, optimizer)\n",
    "    print(f\"Epoch {epoch+1}/{num_epochs}: Loss: {train_loss:.4f}, Accuracy: {train_acc:.2f}%\")"
   ]
  },
  {
   "cell_type": "code",
   "execution_count": 13,
   "metadata": {},
   "outputs": [
    {
     "data": {
      "image/png": "[encoded data removed]",
      "text/plain": [
       "<Figure size 640x480 with 1 Axes>"
      ]
     },
     "metadata": {},
     "output_type": "display_data"
    }
   ],
   "source": [
    "test_transform = transforms.Compose([\n",
    "    #transforms.Resize((96, 96)),  # Assicura dimensioni coerenti\n",
    "    transforms.Grayscale(),\n",
    "    transforms.ToTensor(),  # Conversione a tensore\n",
    "    ApplyThreshold(threshold=0.1),\n",
    "])\n",
    "\n",
    "test_set = ImageFolder(root='./test_edges', transform=test_transform)\n",
    "\n",
    "# Carica il primo elemento dal dataset\n",
    "image_tensor, label = test_set[0]  # Prendi il primo elemento trasformato\n",
    "\n",
    "# Se l'immagine ha 1 canale (bianco e nero) usa cmap=\"gray\"\n",
    "# Se ha 3 canali (RGB), mantieni la rappresentazione RGB\n",
    "if image_tensor.shape[0] == 1:\n",
    "    # Semplice immagine in scala di grigi\n",
    "    plt.imshow(image_tensor.squeeze(), cmap=\"gray\")  # Rimuovi canale e usa cmap gray\n",
    "else:\n",
    "    # Immagine a 3 canali\n",
    "    plt.imshow(image_tensor.permute(1, 2, 0))  # Cambia la forma da (C, H, W) a (H, W, C)\n",
    "    \n",
    "plt.title(f\"Class: {label}\")\n",
    "plt.axis('off')  # Rimuovi gli assi\n",
    "plt.show()\n",
    "\n"
   ]
  },
  {
   "cell_type": "code",
   "execution_count": 14,
   "metadata": {},
   "outputs": [
    {
     "name": "stdout",
     "output_type": "stream",
     "text": [
      "\n",
      "Classification Report:\n",
      "              precision    recall  f1-score   support\n",
      "\n",
      "           0       0.06      0.02      0.02       133\n",
      "           1       0.06      0.12      0.08       275\n",
      "           2       0.10      0.19      0.13       406\n",
      "           3       0.83      0.58      0.69      1896\n",
      "           4       0.00      0.00      0.00        39\n",
      "\n",
      "    accuracy                           0.44      2749\n",
      "   macro avg       0.21      0.18      0.19      2749\n",
      "weighted avg       0.60      0.44      0.50      2749\n",
      "\n"
     ]
    }
   ],
   "source": [
    "test_set_loader = DataLoader(test_set, batch_size=32, shuffle=False)\n",
    "\n",
    "y_true, y_pred = evaluate(model, test_set_loader)\n",
    "\n",
    "print(\"\\nClassification Report:\")\n",
    "print(classification_report(y_true, y_pred, target_names=train_dataset.dataset.classes))"
   ]
  },
  {
   "cell_type": "code",
   "execution_count": 23,
   "metadata": {},
   "outputs": [],
   "source": [
    "torch.save({\n",
    "    'model': model,\n",
    "    'model_state_dict': model.state_dict(),\n",
    "    'optimizer_state_dict': optimizer.state_dict(),\n",
    "}, 'model_58.pth')"
   ]
  }
 ],
 "metadata": {
  "kernelspec": {
   "display_name": ".env",
   "language": "python",
   "name": "python3"
  },
  "language_info": {
   "codemirror_mode": {
    "name": "ipython",
    "version": 3
   },
   "file_extension": ".py",
   "mimetype": "text/x-python",
   "name": "python",
   "nbconvert_exporter": "python",
   "pygments_lexer": "ipython3",
   "version": "3.12.6"
  }
 },
 "nbformat": 4,
 "nbformat_minor": 2
}
